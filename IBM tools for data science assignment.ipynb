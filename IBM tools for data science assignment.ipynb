{
 "cells": [
  {
   "cell_type": "markdown",
   "id": "4ef63cf3",
   "metadata": {},
   "source": [
    "# Tools for data science assignment"
   ]
  },
  {
   "cell_type": "markdown",
   "id": "4a0fc5e4",
   "metadata": {},
   "source": [
    "## In this notebook, data science tools, languages and libraries will be summarized"
   ]
  },
  {
   "cell_type": "markdown",
   "id": "e6893c99",
   "metadata": {},
   "source": [
    "**Objectives:**\n",
    "- List most commonly used data science languages\n",
    "- List most commonly used data science libraries\n",
    "- List most commonly used data science tools\n",
    "- Create arithmetic equation\n",
    "- Convert minutes to hours"
   ]
  },
  {
   "cell_type": "markdown",
   "id": "31793f55",
   "metadata": {},
   "source": [
    "**Popular languages that Data Scientists use are:**\n",
    "\n",
    "- Python\n",
    "- R\n",
    "- SQL\n",
    "- Julia"
   ]
  },
  {
   "cell_type": "markdown",
   "id": "bb0b48a2",
   "metadata": {},
   "source": [
    "**Popular libraries that Data Scientists use are:**\n",
    "\n",
    "- Pandas\n",
    "- NumPy\n",
    "- Matplotlib\n",
    "- Seaborn\n",
    "- Scikit-learn\n",
    "- TensorFlow\n",
    "- PyTorch"
   ]
  },
  {
   "cell_type": "markdown",
   "id": "3c34eedc",
   "metadata": {},
   "source": [
    "**Tools that Data Scientists use are:**\n",
    "- Jupyter Notebook\n",
    "- Rstudio\n",
    "- Anaconda\n",
    "- Apache Spark\n"
   ]
  },
  {
   "cell_type": "markdown",
   "id": "5cf102ba",
   "metadata": {},
   "source": [
    "## Arithmetic Equations"
   ]
  },
  {
   "cell_type": "code",
   "execution_count": 9,
   "id": "4732700d",
   "metadata": {},
   "outputs": [
    {
     "data": {
      "text/plain": [
       "17"
      ]
     },
     "execution_count": 9,
     "metadata": {},
     "output_type": "execute_result"
    }
   ],
   "source": [
    "(3*4)+5"
   ]
  },
  {
   "cell_type": "code",
   "execution_count": 10,
   "id": "8726b869",
   "metadata": {},
   "outputs": [
    {
     "data": {
      "text/plain": [
       "21.0"
      ]
     },
     "execution_count": 10,
     "metadata": {},
     "output_type": "execute_result"
    }
   ],
   "source": [
    "16/4 + 17\n"
   ]
  },
  {
   "cell_type": "markdown",
   "id": "6f08e787",
   "metadata": {},
   "source": [
    "## Converting minutes to hours:"
   ]
  },
  {
   "cell_type": "code",
   "execution_count": 11,
   "id": "7c355f44",
   "metadata": {},
   "outputs": [
    {
     "name": "stdout",
     "output_type": "stream",
     "text": [
      "Enter the number of minutes: 250\n",
      "250.0 minutes is equal to 4.166666666666667 hours.\n"
     ]
    }
   ],
   "source": [
    "minutes = float(input(\"Enter the number of minutes: \"))\n",
    "\n",
    "hours = minutes / 60\n",
    "\n",
    "print(f\"{minutes} minutes is equal to {hours} hours.\")\n"
   ]
  },
  {
   "cell_type": "markdown",
   "id": "cc0970b8",
   "metadata": {},
   "source": [
    "# Daniel Al Awar"
   ]
  }
 ],
 "metadata": {
  "kernelspec": {
   "display_name": "Python 3 (ipykernel)",
   "language": "python",
   "name": "python3"
  },
  "language_info": {
   "codemirror_mode": {
    "name": "ipython",
    "version": 3
   },
   "file_extension": ".py",
   "mimetype": "text/x-python",
   "name": "python",
   "nbconvert_exporter": "python",
   "pygments_lexer": "ipython3",
   "version": "3.10.9"
  }
 },
 "nbformat": 4,
 "nbformat_minor": 5
}
